{
 "cells": [
  {
   "cell_type": "code",
   "execution_count": 1,
   "metadata": {},
   "outputs": [],
   "source": [
    "import pandas as pd\n",
    "from sklearn.feature_extraction.text import TfidfVectorizer\n",
    "from sklearn.metrics.pairwise import cosine_similarity\n",
    "\n",
    "\n",
    "\n",
    "\n"
   ]
  },
  {
   "cell_type": "code",
   "execution_count": 2,
   "metadata": {},
   "outputs": [],
   "source": [
    "# Load data\n",
    "data = pd.read_csv(r'C:\\\\Users\\\\bishowa\\\\OneDrive\\\\Desktop\\\\Final project\\\\data\\\\jobs.csv')\n",
    "data = data.sample(10000).reset_index(drop=True)\n",
    "data.drop(\"Unnamed: 0\", axis=1, inplace=True)\n",
    "data.dropna(subset=['Job Title', 'Key Skills'], inplace=True)\n",
    "\n"
   ]
  },
  {
   "cell_type": "code",
   "execution_count": 3,
   "metadata": {},
   "outputs": [],
   "source": [
    "# Normalize job titles\n",
    "data['Job Title'] = data['Job Title'].str.lower().str.strip()\n",
    "\n"
   ]
  },
  {
   "cell_type": "code",
   "execution_count": 4,
   "metadata": {},
   "outputs": [],
   "source": [
    "# Text processing and TF-IDF vectorization\n",
    "features = data[\"Key Skills\"].astype(str)\n",
    "tfidf = TfidfVectorizer(stop_words='english')\n",
    "tfidf_matrix = tfidf.fit_transform(features)\n",
    "\n"
   ]
  },
  {
   "cell_type": "code",
   "execution_count": 15,
   "metadata": {},
   "outputs": [
    {
     "data": {
      "text/plain": [
       "(94, 'purchase/vendor development manager')"
      ]
     },
     "execution_count": 15,
     "metadata": {},
     "output_type": "execute_result"
    }
   ],
   "source": [
    "similarity = cosine_similarity(tfidf_matrix)\n",
    "\n",
    "# Create an index for job titles\n",
    "# indices = pd.Series(data.index, index=data['Job Title']).drop_duplicates()\n",
    "\n",
    "item_title = data.sample(n=1).iloc[0]['Job Title']\n",
    "\n",
    "item_index = data.index.get_loc(data[data['Job Title'] == item_title].index[0])\n",
    "\n",
    "(item_index,item_title)"
   ]
  },
  {
   "cell_type": "code",
   "execution_count": 16,
   "metadata": {},
   "outputs": [],
   "source": [
    "s = list(enumerate(similarity[0]))\n",
    "sorted_i = sorted(s,key=lambda x:x[1],reverse=True)[1:11]\n"
   ]
  },
  {
   "cell_type": "code",
   "execution_count": 17,
   "metadata": {},
   "outputs": [
    {
     "name": "stdout",
     "output_type": "stream",
     "text": [
      "6702 :purchase/vendor development manager\n",
      "3171 :purchase/vendor development manager\n",
      "8868 :purchase/vendor development manager\n",
      "8626 :purchase/vendor development manager\n",
      "1300 :purchase/vendor development manager\n",
      "5070 :purchase/vendor development manager\n",
      "3911 :purchase/vendor development manager\n",
      "640 :purchase/vendor development manager\n",
      "2166 :purchase/vendor development manager\n",
      "7200 :purchase/vendor development manager\n"
     ]
    }
   ],
   "source": [
    "for i,score in sorted_i:\n",
    "    print(\"{} :{}\".format(i,data[\"Job Title\"].iloc[item_index]))"
   ]
  },
  {
   "cell_type": "code",
   "execution_count": 18,
   "metadata": {},
   "outputs": [],
   "source": [
    "job_tuples = [(index, title) for index, title in enumerate(data['Job Title'])]\n"
   ]
  },
  {
   "cell_type": "code",
   "execution_count": 14,
   "metadata": {},
   "outputs": [],
   "source": []
  },
  {
   "cell_type": "code",
   "execution_count": null,
   "metadata": {},
   "outputs": [],
   "source": []
  }
 ],
 "metadata": {
  "kernelspec": {
   "display_name": "Python 3",
   "language": "python",
   "name": "python3"
  },
  "language_info": {
   "codemirror_mode": {
    "name": "ipython",
    "version": 3
   },
   "file_extension": ".py",
   "mimetype": "text/x-python",
   "name": "python",
   "nbconvert_exporter": "python",
   "pygments_lexer": "ipython3",
   "version": "3.12.4"
  }
 },
 "nbformat": 4,
 "nbformat_minor": 2
}
